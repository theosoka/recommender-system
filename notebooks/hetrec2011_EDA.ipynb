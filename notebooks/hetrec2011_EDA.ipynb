{
 "cells": [
  {
   "cell_type": "code",
   "execution_count": 18,
   "outputs": [],
   "source": [
    "import pandas as pd\n",
    "import numpy as np\n",
    "import matplotlib as mpl\n",
    "import matplotlib.pyplot as plt\n",
    "%matplotlib inline\n",
    "import seaborn as sns\n",
    "import scipy.stats as st\n",
    "from sklearn import ensemble, tree, linear_model\n",
    "from sklearn.model_selection import train_test_split\n",
    "import missingno as msno"
   ],
   "metadata": {
    "collapsed": false,
    "ExecuteTime": {
     "end_time": "2023-10-07T20:03:39.445734Z",
     "start_time": "2023-10-07T20:03:39.443340Z"
    }
   },
   "id": "a813d02d3003a030"
  },
  {
   "cell_type": "code",
   "execution_count": 22,
   "id": "initial_id",
   "metadata": {
    "collapsed": true,
    "ExecuteTime": {
     "end_time": "2023-10-07T20:09:39.089612Z",
     "start_time": "2023-10-07T20:09:38.959852Z"
    }
   },
   "outputs": [],
   "source": [
    "artists = pd.read_csv(\"/Users/polina/PycharmProjects/recommendation_system/recommendation-system/data/external/hetrec2011-lastfm-2k/artists.dat\", sep=\"\\t\")\n",
    "tags = pd.read_csv(\"/Users/polina/PycharmProjects/recommendation_system/recommendation-system/data/external/hetrec2011-lastfm-2k/tags.dat\", sep=\"\\t\", encoding=\"ISO-8859-1\")\n",
    "user_artists = pd.read_csv(\"/Users/polina/PycharmProjects/recommendation_system/recommendation-system/data/external/hetrec2011-lastfm-2k/user_artists.dat\", sep=\"\\t\")\n",
    "user_friends = pd.read_csv(\"/Users/polina/PycharmProjects/recommendation_system/recommendation-system/data/external/hetrec2011-lastfm-2k/user_friends.dat\", sep=\"\\t\")\n",
    "user_taggedartists = pd.read_csv(\"/Users/polina/PycharmProjects/recommendation_system/recommendation-system/data/external/hetrec2011-lastfm-2k/user_taggedartists.dat\", sep=\"\\t\")\n",
    "user_taggedartists_timestamps = pd.read_csv(\"/Users/polina/PycharmProjects/recommendation_system/recommendation-system/data/external/hetrec2011-lastfm-2k/user_taggedartists-timestamps.dat\", sep=\"\\t\")"
   ]
  },
  {
   "cell_type": "code",
   "execution_count": 25,
   "outputs": [
    {
     "data": {
      "text/plain": "        userID  artistID  tagID  day  month  year\n0            2        52     13    1      4  2009\n1            2        52     15    1      4  2009\n2            2        52     18    1      4  2009\n3            2        52     21    1      4  2009\n4            2        52     41    1      4  2009\n...        ...       ...    ...  ...    ...   ...\n186474    2100     16437      4    1      7  2010\n186475    2100     16437    292    1      5  2010\n186476    2100     16437   2087    1      7  2010\n186477    2100     16437   2801    1      5  2010\n186478    2100     16437   3335    1      7  2010\n\n[186479 rows x 6 columns]",
      "text/html": "<div>\n<style scoped>\n    .dataframe tbody tr th:only-of-type {\n        vertical-align: middle;\n    }\n\n    .dataframe tbody tr th {\n        vertical-align: top;\n    }\n\n    .dataframe thead th {\n        text-align: right;\n    }\n</style>\n<table border=\"1\" class=\"dataframe\">\n  <thead>\n    <tr style=\"text-align: right;\">\n      <th></th>\n      <th>userID</th>\n      <th>artistID</th>\n      <th>tagID</th>\n      <th>day</th>\n      <th>month</th>\n      <th>year</th>\n    </tr>\n  </thead>\n  <tbody>\n    <tr>\n      <th>0</th>\n      <td>2</td>\n      <td>52</td>\n      <td>13</td>\n      <td>1</td>\n      <td>4</td>\n      <td>2009</td>\n    </tr>\n    <tr>\n      <th>1</th>\n      <td>2</td>\n      <td>52</td>\n      <td>15</td>\n      <td>1</td>\n      <td>4</td>\n      <td>2009</td>\n    </tr>\n    <tr>\n      <th>2</th>\n      <td>2</td>\n      <td>52</td>\n      <td>18</td>\n      <td>1</td>\n      <td>4</td>\n      <td>2009</td>\n    </tr>\n    <tr>\n      <th>3</th>\n      <td>2</td>\n      <td>52</td>\n      <td>21</td>\n      <td>1</td>\n      <td>4</td>\n      <td>2009</td>\n    </tr>\n    <tr>\n      <th>4</th>\n      <td>2</td>\n      <td>52</td>\n      <td>41</td>\n      <td>1</td>\n      <td>4</td>\n      <td>2009</td>\n    </tr>\n    <tr>\n      <th>...</th>\n      <td>...</td>\n      <td>...</td>\n      <td>...</td>\n      <td>...</td>\n      <td>...</td>\n      <td>...</td>\n    </tr>\n    <tr>\n      <th>186474</th>\n      <td>2100</td>\n      <td>16437</td>\n      <td>4</td>\n      <td>1</td>\n      <td>7</td>\n      <td>2010</td>\n    </tr>\n    <tr>\n      <th>186475</th>\n      <td>2100</td>\n      <td>16437</td>\n      <td>292</td>\n      <td>1</td>\n      <td>5</td>\n      <td>2010</td>\n    </tr>\n    <tr>\n      <th>186476</th>\n      <td>2100</td>\n      <td>16437</td>\n      <td>2087</td>\n      <td>1</td>\n      <td>7</td>\n      <td>2010</td>\n    </tr>\n    <tr>\n      <th>186477</th>\n      <td>2100</td>\n      <td>16437</td>\n      <td>2801</td>\n      <td>1</td>\n      <td>5</td>\n      <td>2010</td>\n    </tr>\n    <tr>\n      <th>186478</th>\n      <td>2100</td>\n      <td>16437</td>\n      <td>3335</td>\n      <td>1</td>\n      <td>7</td>\n      <td>2010</td>\n    </tr>\n  </tbody>\n</table>\n<p>186479 rows × 6 columns</p>\n</div>"
     },
     "execution_count": 25,
     "metadata": {},
     "output_type": "execute_result"
    }
   ],
   "source": [
    "user_taggedartists"
   ],
   "metadata": {
    "collapsed": false,
    "ExecuteTime": {
     "end_time": "2023-10-07T20:13:40.144125Z",
     "start_time": "2023-10-07T20:13:40.142850Z"
    }
   },
   "id": "3d634fedc61cf2d7"
  },
  {
   "cell_type": "code",
   "execution_count": 26,
   "outputs": [
    {
     "data": {
      "text/plain": "       tagID           tagValue\n0          1              metal\n1          2  alternative metal\n2          3          goth rock\n3          4        black metal\n4          5        death metal\n...      ...                ...\n11941  12644              suomi\n11942  12645          symbiosis\n11943  12646            sverige\n11944  12647               eire\n11945  12648     electro latino\n\n[11946 rows x 2 columns]",
      "text/html": "<div>\n<style scoped>\n    .dataframe tbody tr th:only-of-type {\n        vertical-align: middle;\n    }\n\n    .dataframe tbody tr th {\n        vertical-align: top;\n    }\n\n    .dataframe thead th {\n        text-align: right;\n    }\n</style>\n<table border=\"1\" class=\"dataframe\">\n  <thead>\n    <tr style=\"text-align: right;\">\n      <th></th>\n      <th>tagID</th>\n      <th>tagValue</th>\n    </tr>\n  </thead>\n  <tbody>\n    <tr>\n      <th>0</th>\n      <td>1</td>\n      <td>metal</td>\n    </tr>\n    <tr>\n      <th>1</th>\n      <td>2</td>\n      <td>alternative metal</td>\n    </tr>\n    <tr>\n      <th>2</th>\n      <td>3</td>\n      <td>goth rock</td>\n    </tr>\n    <tr>\n      <th>3</th>\n      <td>4</td>\n      <td>black metal</td>\n    </tr>\n    <tr>\n      <th>4</th>\n      <td>5</td>\n      <td>death metal</td>\n    </tr>\n    <tr>\n      <th>...</th>\n      <td>...</td>\n      <td>...</td>\n    </tr>\n    <tr>\n      <th>11941</th>\n      <td>12644</td>\n      <td>suomi</td>\n    </tr>\n    <tr>\n      <th>11942</th>\n      <td>12645</td>\n      <td>symbiosis</td>\n    </tr>\n    <tr>\n      <th>11943</th>\n      <td>12646</td>\n      <td>sverige</td>\n    </tr>\n    <tr>\n      <th>11944</th>\n      <td>12647</td>\n      <td>eire</td>\n    </tr>\n    <tr>\n      <th>11945</th>\n      <td>12648</td>\n      <td>electro latino</td>\n    </tr>\n  </tbody>\n</table>\n<p>11946 rows × 2 columns</p>\n</div>"
     },
     "execution_count": 26,
     "metadata": {},
     "output_type": "execute_result"
    }
   ],
   "source": [
    "tags"
   ],
   "metadata": {
    "collapsed": false,
    "ExecuteTime": {
     "end_time": "2023-10-07T20:13:54.606247Z",
     "start_time": "2023-10-07T20:13:54.602766Z"
    }
   },
   "id": "caa05bd88fa42b48"
  },
  {
   "cell_type": "code",
   "execution_count": null,
   "outputs": [],
   "source": [],
   "metadata": {
    "collapsed": false
   },
   "id": "b105ac13187ef595"
  }
 ],
 "metadata": {
  "kernelspec": {
   "display_name": "Python 3",
   "language": "python",
   "name": "python3"
  },
  "language_info": {
   "codemirror_mode": {
    "name": "ipython",
    "version": 2
   },
   "file_extension": ".py",
   "mimetype": "text/x-python",
   "name": "python",
   "nbconvert_exporter": "python",
   "pygments_lexer": "ipython2",
   "version": "2.7.6"
  }
 },
 "nbformat": 4,
 "nbformat_minor": 5
}
