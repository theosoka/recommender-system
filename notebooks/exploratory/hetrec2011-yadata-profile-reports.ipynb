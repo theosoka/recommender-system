{
 "cells": [
  {
   "cell_type": "markdown",
   "id": "fda35dc70bed2612",
   "metadata": {
    "collapsed": false
   },
   "source": [
    "## hetrec2011-lastfm-2k EDA"
   ]
  },
  {
   "cell_type": "code",
   "execution_count": 1,
   "id": "initial_id",
   "metadata": {
    "editable": true,
    "slideshow": {
     "slide_type": ""
    },
    "tags": [],
    "ExecuteTime": {
     "end_time": "2024-01-16T16:21:06.913250Z",
     "start_time": "2024-01-16T16:21:06.157153Z"
    }
   },
   "outputs": [],
   "source": [
    "import pandas as pd\n",
    "import numpy as np\n",
    "%matplotlib inline\n",
    "import seaborn as sns\n",
    "from ydata_profiling import ProfileReport\n",
    "from pathlib import Path"
   ]
  },
  {
   "cell_type": "markdown",
   "id": "afde9bcc-b25b-41b2-9106-1b868e4e6934",
   "metadata": {},
   "source": [
    "### user_artists.dat\n",
    "This file contains the artists listened by each user.\n",
    "        \n",
    "It also provides a listening count for each [user, artist] pair\n",
    "\n",
    "userID \\t artistID \\t weight\n",
    "2\t51\t13883"
   ]
  },
  {
   "cell_type": "code",
   "execution_count": 2,
   "id": "bec8b07910446258",
   "metadata": {
    "collapsed": false,
    "editable": true,
    "slideshow": {
     "slide_type": ""
    },
    "tags": [],
    "ExecuteTime": {
     "end_time": "2024-01-16T16:21:06.929349Z",
     "start_time": "2024-01-16T16:21:06.912739Z"
    }
   },
   "outputs": [],
   "source": [
    "user_artists = pd.read_csv(Path() / \"../../data/raw/hetrec2011-lastfm-2k/user_artists.dat\", sep=\"\\t\")"
   ]
  },
  {
   "cell_type": "code",
   "execution_count": 7,
   "outputs": [],
   "source": [
    "ids = set(user_artists.userID)"
   ],
   "metadata": {
    "collapsed": false,
    "ExecuteTime": {
     "end_time": "2024-01-16T16:21:35.500391Z",
     "start_time": "2024-01-16T16:21:35.489443Z"
    }
   },
   "id": "32730d6293839103"
  },
  {
   "cell_type": "code",
   "execution_count": 8,
   "outputs": [
    {
     "data": {
      "text/plain": "1892"
     },
     "execution_count": 8,
     "metadata": {},
     "output_type": "execute_result"
    }
   ],
   "source": [
    "user_artists.userID"
   ],
   "metadata": {
    "collapsed": false,
    "ExecuteTime": {
     "end_time": "2024-01-16T16:21:39.753383Z",
     "start_time": "2024-01-16T16:21:39.728232Z"
    }
   },
   "id": "75c5e45611fe6da9"
  },
  {
   "cell_type": "code",
   "execution_count": null,
   "id": "d7696bbf-13c2-4d8e-b7ca-608651be7b06",
   "metadata": {},
   "outputs": [],
   "source": [
    "user_artists_report = ProfileReport(user_artists, title=\"User-artists dataset report\")\n",
    "user_artists_report.to_file(\"../reports/user_artists_profile_report.html\")"
   ]
  },
  {
   "cell_type": "markdown",
   "id": "954e6c83-b252-4c4f-8c1c-349dc4a538f1",
   "metadata": {},
   "source": [
    "### user_friends.dat\n",
    "These files contain the friend relations between users in the database.\n",
    "\n",
    "userID \\t friendID\n",
    "2\t275"
   ]
  },
  {
   "cell_type": "code",
   "execution_count": null,
   "id": "59a80227-62cc-402a-ac01-eb02d6d48bd5",
   "metadata": {
    "editable": true,
    "slideshow": {
     "slide_type": ""
    },
    "tags": []
   },
   "outputs": [],
   "source": [
    "user_friends = pd.read_csv(Path() / \"../../data/raw/hetrec2011-lastfm-2k/user_friends.dat\", sep=\"\\t\")"
   ]
  },
  {
   "cell_type": "code",
   "execution_count": null,
   "id": "fa29a2bc-f697-424b-9e2e-ea0e4c157401",
   "metadata": {},
   "outputs": [],
   "source": [
    "user_friends_report = ProfileReport(user_friends, title=\"User-friends dataset report\")\n",
    "user_friends_report.to_file(\"../reports/user_friends_profile_report.html\")"
   ]
  },
  {
   "cell_type": "markdown",
   "id": "b7d515eb-4f8a-42fe-abc5-34376f3bdb36",
   "metadata": {},
   "source": [
    "### user_taggedartists-timestamps.dat\n",
    "These files contain the tag assignments of artists provided by each particular user.\n",
    "        \n",
    "They also contain the timestamps when the tag assignments were done.\n",
    "\n",
    "user_taggedartists-timestamps.dat\n",
    "\n",
    "userID \\t artistID \\t tagID \\t timestamp\n",
    "2\t52\t13\t1238536800000"
   ]
  },
  {
   "cell_type": "code",
   "execution_count": null,
   "id": "b1b1ad77-3cd6-4509-8c30-d6ce21f05d01",
   "metadata": {},
   "outputs": [],
   "source": [
    "user_taggedartists = pd.read_csv(Path() / \"../../data/raw/hetrec2011-lastfm-2k/user_taggedartists-timestamps.dat\", sep=\"\\t\")"
   ]
  },
  {
   "cell_type": "code",
   "execution_count": null,
   "id": "fad36319-40e2-4663-8638-0b62f0c088b0",
   "metadata": {},
   "outputs": [],
   "source": [
    "user_taggedartists_report = ProfileReport(user_taggedartists, title=\"User tagged-artists dataset report\")\n",
    "user_taggedartists_report.to_file(\"../reports/user_taggedartists_profile_report.html\")"
   ]
  },
  {
   "cell_type": "markdown",
   "id": "56c3197a-7c72-4126-abed-3f74e5ae5015",
   "metadata": {},
   "source": [
    "### tags.dat\n",
    "This file contains the set of tags available in the dataset.\n",
    "\n",
    "tagID \\t tagValue\n",
    "1\tmetal"
   ]
  },
  {
   "cell_type": "code",
   "execution_count": null,
   "id": "0de32a7c-b3e4-4e9b-bdcc-988318c3ce45",
   "metadata": {
    "editable": true,
    "slideshow": {
     "slide_type": ""
    },
    "tags": []
   },
   "outputs": [],
   "source": [
    "tags = pd.read_csv(Path() / \"../../data/raw/hetrec2011-lastfm-2k/tags.dat\", sep=\"\\t\", encoding='latin-1')"
   ]
  },
  {
   "cell_type": "code",
   "execution_count": null,
   "id": "c4799261-5512-4a51-88de-3eb287f179fd",
   "metadata": {},
   "outputs": [],
   "source": [
    "tags_report = ProfileReport(tags, title=\"Tags dataset report\")\n",
    "tags_report.to_file(\"../reports/tags_profile_report.html\")"
   ]
  },
  {
   "cell_type": "markdown",
   "id": "78a355fc-1c34-428a-ae65-7395f3308113",
   "metadata": {},
   "source": [
    "### artists.dat\n",
    "This file contains information about music artists listened and tagged by the users.\n",
    "\n",
    "id \\t name \\t url \\t pictureURL\n",
    "\n",
    "Example:\n",
    "707\tMetallica\thttp://www.last.fm/music/Metallica\thttp://userserve-ak.last.fm/serve/252/7560709.jpg"
   ]
  },
  {
   "cell_type": "code",
   "execution_count": null,
   "id": "44961642-c4df-4992-9f3e-8802f3d0203e",
   "metadata": {},
   "outputs": [],
   "source": [
    "artists = pd.read_csv(Path() / \"../../data/raw/hetrec2011-lastfm-2k/artists.dat\", sep=\"\\t\", encoding='latin-1')"
   ]
  },
  {
   "cell_type": "code",
   "execution_count": null,
   "id": "c28cc12f-513d-45e3-91f0-db75a55a7b4f",
   "metadata": {},
   "outputs": [],
   "source": [
    "artists_report = ProfileReport(artists, title=\"Artists dataset report\")\n",
    "artists_report.to_file(\"../reports/artists_profile_report.html\")"
   ]
  },
  {
   "cell_type": "markdown",
   "id": "68358120-4408-4ca3-bc40-9450d4f4683c",
   "metadata": {},
   "source": [
    "### fixing skeweness of user_artists.weight"
   ]
  },
  {
   "cell_type": "code",
   "execution_count": null,
   "id": "a61e5d32-d8dd-4f94-afc3-222ce4ae1f87",
   "metadata": {},
   "outputs": [],
   "source": [
    "from sklearn.preprocessing import  QuantileTransformer"
   ]
  },
  {
   "cell_type": "code",
   "execution_count": null,
   "id": "46555098-8679-4c45-be3c-e98a8e6d6231",
   "metadata": {},
   "outputs": [],
   "source": [
    "qt = QuantileTransformer(n_quantiles=500, output_distribution='normal')"
   ]
  },
  {
   "cell_type": "code",
   "execution_count": null,
   "id": "252728a8-cecf-44fb-acf7-662f06a979b9",
   "metadata": {},
   "outputs": [],
   "source": [
    "user_artists.weight = pd.Series((qt.fit_transform(np.array(user_artists.weight).reshape(-1, 1))).flatten())"
   ]
  },
  {
   "cell_type": "code",
   "execution_count": null,
   "id": "38f03df5-f4fc-414b-9d86-9a5ed2b3f3d9",
   "metadata": {},
   "outputs": [],
   "source": [
    "sns.histplot(user_artists.weight, bins = 50, kde = True)"
   ]
  },
  {
   "cell_type": "code",
   "execution_count": null,
   "outputs": [],
   "source": [
    "user_artists.loc[user_artists[\"weight\"] >= 0, \"weight\"] = 1\n",
    "user_artists.loc[user_artists[\"weight\"] < 0, \"weight\"] = 0"
   ],
   "metadata": {
    "collapsed": false
   },
   "id": "9f4ae9f81892a018"
  },
  {
   "cell_type": "code",
   "execution_count": null,
   "outputs": [],
   "source": [
    "user_artists"
   ],
   "metadata": {
    "collapsed": false
   },
   "id": "3ddb75ba93ce6c9"
  },
  {
   "cell_type": "markdown",
   "id": "69435279-dddc-4929-b869-58f0f91a17e9",
   "metadata": {},
   "source": [
    "### deleting missing values from artists"
   ]
  },
  {
   "cell_type": "code",
   "execution_count": null,
   "id": "132c8b15-97ca-45ef-9c59-2b7baa866fa6",
   "metadata": {},
   "outputs": [],
   "source": [
    "artists = artists.dropna()"
   ]
  },
  {
   "cell_type": "code",
   "execution_count": null,
   "outputs": [],
   "source": [
    "artists[\"id\"].isin([1001, 993, 187, 997, 193])"
   ],
   "metadata": {
    "collapsed": false
   },
   "id": "11262ac63a3fdca6"
  },
  {
   "cell_type": "code",
   "execution_count": null,
   "outputs": [],
   "source": [
    "artists.head()"
   ],
   "metadata": {
    "collapsed": false
   },
   "id": "5d5cb66c8f98d54b"
  },
  {
   "cell_type": "code",
   "execution_count": 7,
   "outputs": [],
   "source": [
    "user_taggedartists = pd.read_csv(\"/Users/polina/study/THESIS/recommender-system/data/raw/hetrec2011-lastfm-2k/user_taggedartists-timestamps.dat\", sep=\"\\t\")"
   ],
   "metadata": {
    "collapsed": false,
    "ExecuteTime": {
     "end_time": "2024-01-13T15:04:08.741995Z",
     "start_time": "2024-01-13T15:04:08.671143Z"
    }
   },
   "id": "deadf735852e188a"
  },
  {
   "cell_type": "code",
   "execution_count": 8,
   "outputs": [
    {
     "data": {
      "text/plain": "        userID  artistID  tagID      timestamp\n0            2        52     13  1238536800000\n1            2        52     15  1238536800000\n2            2        52     18  1238536800000\n3            2        52     21  1238536800000\n4            2        52     41  1238536800000\n...        ...       ...    ...            ...\n186474    2100     16437      4  1277935200000\n186475    2100     16437    292  1272664800000\n186476    2100     16437   2087  1277935200000\n186477    2100     16437   2801  1272664800000\n186478    2100     16437   3335  1277935200000\n\n[186479 rows x 4 columns]",
      "text/html": "<div>\n<style scoped>\n    .dataframe tbody tr th:only-of-type {\n        vertical-align: middle;\n    }\n\n    .dataframe tbody tr th {\n        vertical-align: top;\n    }\n\n    .dataframe thead th {\n        text-align: right;\n    }\n</style>\n<table border=\"1\" class=\"dataframe\">\n  <thead>\n    <tr style=\"text-align: right;\">\n      <th></th>\n      <th>userID</th>\n      <th>artistID</th>\n      <th>tagID</th>\n      <th>timestamp</th>\n    </tr>\n  </thead>\n  <tbody>\n    <tr>\n      <th>0</th>\n      <td>2</td>\n      <td>52</td>\n      <td>13</td>\n      <td>1238536800000</td>\n    </tr>\n    <tr>\n      <th>1</th>\n      <td>2</td>\n      <td>52</td>\n      <td>15</td>\n      <td>1238536800000</td>\n    </tr>\n    <tr>\n      <th>2</th>\n      <td>2</td>\n      <td>52</td>\n      <td>18</td>\n      <td>1238536800000</td>\n    </tr>\n    <tr>\n      <th>3</th>\n      <td>2</td>\n      <td>52</td>\n      <td>21</td>\n      <td>1238536800000</td>\n    </tr>\n    <tr>\n      <th>4</th>\n      <td>2</td>\n      <td>52</td>\n      <td>41</td>\n      <td>1238536800000</td>\n    </tr>\n    <tr>\n      <th>...</th>\n      <td>...</td>\n      <td>...</td>\n      <td>...</td>\n      <td>...</td>\n    </tr>\n    <tr>\n      <th>186474</th>\n      <td>2100</td>\n      <td>16437</td>\n      <td>4</td>\n      <td>1277935200000</td>\n    </tr>\n    <tr>\n      <th>186475</th>\n      <td>2100</td>\n      <td>16437</td>\n      <td>292</td>\n      <td>1272664800000</td>\n    </tr>\n    <tr>\n      <th>186476</th>\n      <td>2100</td>\n      <td>16437</td>\n      <td>2087</td>\n      <td>1277935200000</td>\n    </tr>\n    <tr>\n      <th>186477</th>\n      <td>2100</td>\n      <td>16437</td>\n      <td>2801</td>\n      <td>1272664800000</td>\n    </tr>\n    <tr>\n      <th>186478</th>\n      <td>2100</td>\n      <td>16437</td>\n      <td>3335</td>\n      <td>1277935200000</td>\n    </tr>\n  </tbody>\n</table>\n<p>186479 rows × 4 columns</p>\n</div>"
     },
     "execution_count": 8,
     "metadata": {},
     "output_type": "execute_result"
    }
   ],
   "source": [
    "user_taggedartists"
   ],
   "metadata": {
    "collapsed": false,
    "ExecuteTime": {
     "end_time": "2024-01-13T15:04:12.655661Z",
     "start_time": "2024-01-13T15:04:12.652377Z"
    }
   },
   "id": "9f5023c21c0cd80d"
  },
  {
   "cell_type": "code",
   "execution_count": 32,
   "outputs": [],
   "source": [
    "grouped_df = user_taggedartists.groupby('artistID')['tagID'].agg(pd.Series.mode).to_frame()"
   ],
   "metadata": {
    "collapsed": false,
    "ExecuteTime": {
     "end_time": "2024-01-13T16:49:27.463368Z",
     "start_time": "2024-01-13T16:49:26.942673Z"
    }
   },
   "id": "f140ef22dafea559"
  },
  {
   "cell_type": "code",
   "execution_count": 33,
   "outputs": [
    {
     "data": {
      "text/plain": "tagID    139\nName: 1, dtype: object"
     },
     "execution_count": 33,
     "metadata": {},
     "output_type": "execute_result"
    }
   ],
   "source": [
    "grouped_df.iloc[0]"
   ],
   "metadata": {
    "collapsed": false,
    "ExecuteTime": {
     "end_time": "2024-01-13T16:49:35.101977Z",
     "start_time": "2024-01-13T16:49:35.085816Z"
    }
   },
   "id": "203b7a69f319722d"
  },
  {
   "cell_type": "code",
   "execution_count": 26,
   "outputs": [
    {
     "data": {
      "text/plain": "         tagID\nartistID      \n1          139\n2          575\n3            4\n4          139\n5          575\n6            7\n7            1\n8          139\n9           61\n10          86",
      "text/html": "<div>\n<style scoped>\n    .dataframe tbody tr th:only-of-type {\n        vertical-align: middle;\n    }\n\n    .dataframe tbody tr th {\n        vertical-align: top;\n    }\n\n    .dataframe thead th {\n        text-align: right;\n    }\n</style>\n<table border=\"1\" class=\"dataframe\">\n  <thead>\n    <tr style=\"text-align: right;\">\n      <th></th>\n      <th>tagID</th>\n    </tr>\n    <tr>\n      <th>artistID</th>\n      <th></th>\n    </tr>\n  </thead>\n  <tbody>\n    <tr>\n      <th>1</th>\n      <td>139</td>\n    </tr>\n    <tr>\n      <th>2</th>\n      <td>575</td>\n    </tr>\n    <tr>\n      <th>3</th>\n      <td>4</td>\n    </tr>\n    <tr>\n      <th>4</th>\n      <td>139</td>\n    </tr>\n    <tr>\n      <th>5</th>\n      <td>575</td>\n    </tr>\n    <tr>\n      <th>6</th>\n      <td>7</td>\n    </tr>\n    <tr>\n      <th>7</th>\n      <td>1</td>\n    </tr>\n    <tr>\n      <th>8</th>\n      <td>139</td>\n    </tr>\n    <tr>\n      <th>9</th>\n      <td>61</td>\n    </tr>\n    <tr>\n      <th>10</th>\n      <td>86</td>\n    </tr>\n  </tbody>\n</table>\n</div>"
     },
     "execution_count": 26,
     "metadata": {},
     "output_type": "execute_result"
    }
   ],
   "source": [
    "grouped_df.head(10)"
   ],
   "metadata": {
    "collapsed": false,
    "ExecuteTime": {
     "end_time": "2024-01-13T16:35:01.041003Z",
     "start_time": "2024-01-13T16:35:01.037304Z"
    }
   },
   "id": "41d7f0d22cc00236"
  },
  {
   "cell_type": "code",
   "execution_count": 21,
   "outputs": [
    {
     "ename": "TypeError",
     "evalue": "Cannot reset_index inplace on a Series to create a DataFrame",
     "output_type": "error",
     "traceback": [
      "\u001B[0;31m---------------------------------------------------------------------------\u001B[0m",
      "\u001B[0;31mTypeError\u001B[0m                                 Traceback (most recent call last)",
      "Cell \u001B[0;32mIn[21], line 6\u001B[0m\n\u001B[1;32m      4\u001B[0m \u001B[38;5;66;03m# Rename columns and reset index for the final result\u001B[39;00m\n\u001B[1;32m      5\u001B[0m top_tags_df\u001B[38;5;241m.\u001B[39mcolumns \u001B[38;5;241m=\u001B[39m [\u001B[38;5;124m'\u001B[39m\u001B[38;5;124mtag1\u001B[39m\u001B[38;5;124m'\u001B[39m, \u001B[38;5;124m'\u001B[39m\u001B[38;5;124mtag2\u001B[39m\u001B[38;5;124m'\u001B[39m, \u001B[38;5;124m'\u001B[39m\u001B[38;5;124mtag3\u001B[39m\u001B[38;5;124m'\u001B[39m, \u001B[38;5;124m'\u001B[39m\u001B[38;5;124mtag4\u001B[39m\u001B[38;5;124m'\u001B[39m, \u001B[38;5;124m'\u001B[39m\u001B[38;5;124mtag5\u001B[39m\u001B[38;5;124m'\u001B[39m]\n\u001B[0;32m----> 6\u001B[0m \u001B[43mtop_tags_df\u001B[49m\u001B[38;5;241;43m.\u001B[39;49m\u001B[43mreset_index\u001B[49m\u001B[43m(\u001B[49m\u001B[43minplace\u001B[49m\u001B[38;5;241;43m=\u001B[39;49m\u001B[38;5;28;43;01mTrue\u001B[39;49;00m\u001B[43m)\u001B[49m\n\u001B[1;32m      8\u001B[0m \u001B[38;5;66;03m# Merge with the original DataFrame to get timestamps\u001B[39;00m\n\u001B[1;32m      9\u001B[0m result_df \u001B[38;5;241m=\u001B[39m pd\u001B[38;5;241m.\u001B[39mmerge(top_tags_df, user_taggedartists[[\u001B[38;5;124m'\u001B[39m\u001B[38;5;124martistID\u001B[39m\u001B[38;5;124m'\u001B[39m]], on\u001B[38;5;241m=\u001B[39m\u001B[38;5;124m'\u001B[39m\u001B[38;5;124martistID\u001B[39m\u001B[38;5;124m'\u001B[39m)\n",
      "File \u001B[0;32m~/Library/Python/3.9/lib/python/site-packages/pandas/core/series.py:1605\u001B[0m, in \u001B[0;36mSeries.reset_index\u001B[0;34m(self, level, drop, name, inplace, allow_duplicates)\u001B[0m\n\u001B[1;32m   1601\u001B[0m         \u001B[38;5;28;01mreturn\u001B[39;00m \u001B[38;5;28mself\u001B[39m\u001B[38;5;241m.\u001B[39m_constructor(\n\u001B[1;32m   1602\u001B[0m             \u001B[38;5;28mself\u001B[39m\u001B[38;5;241m.\u001B[39m_values\u001B[38;5;241m.\u001B[39mcopy(), index\u001B[38;5;241m=\u001B[39mnew_index, copy\u001B[38;5;241m=\u001B[39m\u001B[38;5;28;01mFalse\u001B[39;00m\n\u001B[1;32m   1603\u001B[0m         )\u001B[38;5;241m.\u001B[39m__finalize__(\u001B[38;5;28mself\u001B[39m, method\u001B[38;5;241m=\u001B[39m\u001B[38;5;124m\"\u001B[39m\u001B[38;5;124mreset_index\u001B[39m\u001B[38;5;124m\"\u001B[39m)\n\u001B[1;32m   1604\u001B[0m \u001B[38;5;28;01melif\u001B[39;00m inplace:\n\u001B[0;32m-> 1605\u001B[0m     \u001B[38;5;28;01mraise\u001B[39;00m \u001B[38;5;167;01mTypeError\u001B[39;00m(\n\u001B[1;32m   1606\u001B[0m         \u001B[38;5;124m\"\u001B[39m\u001B[38;5;124mCannot reset_index inplace on a Series to create a DataFrame\u001B[39m\u001B[38;5;124m\"\u001B[39m\n\u001B[1;32m   1607\u001B[0m     )\n\u001B[1;32m   1608\u001B[0m \u001B[38;5;28;01melse\u001B[39;00m:\n\u001B[1;32m   1609\u001B[0m     \u001B[38;5;28;01mif\u001B[39;00m name \u001B[38;5;129;01mis\u001B[39;00m lib\u001B[38;5;241m.\u001B[39mno_default:\n\u001B[1;32m   1610\u001B[0m         \u001B[38;5;66;03m# For backwards compatibility, keep columns as [0] instead of\u001B[39;00m\n\u001B[1;32m   1611\u001B[0m         \u001B[38;5;66;03m#  [None] when self.name is None\u001B[39;00m\n",
      "\u001B[0;31mTypeError\u001B[0m: Cannot reset_index inplace on a Series to create a DataFrame"
     ]
    }
   ],
   "source": [
    "# Get the top 5 tags for each artist\n",
    "top_tags_df = grouped_df.apply(lambda x: x.sort_values(ascending=False).head(5).index.tolist(), axis=1)\n",
    "\n",
    "# Rename columns and reset index for the final result\n",
    "top_tags_df.columns = ['tag1', 'tag2', 'tag3', 'tag4', 'tag5']\n",
    "top_tags_df.reset_index(inplace=True)\n",
    "\n",
    "# Merge with the original DataFrame to get timestamps\n",
    "result_df = pd.merge(top_tags_df, user_taggedartists[['artistID']], on='artistID')\n"
   ],
   "metadata": {
    "collapsed": false,
    "ExecuteTime": {
     "end_time": "2024-01-13T16:15:57.955096Z",
     "start_time": "2024-01-13T16:15:54.998795Z"
    }
   },
   "id": "56165e787ba28c7d"
  },
  {
   "cell_type": "code",
   "execution_count": null,
   "outputs": [],
   "source": [],
   "metadata": {
    "collapsed": false
   },
   "id": "af27d5854c898915"
  }
 ],
 "metadata": {
  "kernelspec": {
   "display_name": "Python 3 (ipykernel)",
   "language": "python",
   "name": "python3"
  },
  "language_info": {
   "codemirror_mode": {
    "name": "ipython",
    "version": 3
   },
   "file_extension": ".py",
   "mimetype": "text/x-python",
   "name": "python",
   "nbconvert_exporter": "python",
   "pygments_lexer": "ipython3",
   "version": "3.9.6"
  }
 },
 "nbformat": 4,
 "nbformat_minor": 5
}
