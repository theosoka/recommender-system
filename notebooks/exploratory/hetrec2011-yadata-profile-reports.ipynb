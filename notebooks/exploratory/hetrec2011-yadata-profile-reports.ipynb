{
 "cells": [
  {
   "cell_type": "markdown",
   "id": "fda35dc70bed2612",
   "metadata": {
    "collapsed": false
   },
   "source": [
    "## hetrec2011-lastfm-2k EDA"
   ]
  },
  {
   "cell_type": "code",
   "execution_count": 1,
   "id": "initial_id",
   "metadata": {
    "editable": true,
    "slideshow": {
     "slide_type": ""
    },
    "tags": [],
    "ExecuteTime": {
     "end_time": "2023-11-14T22:30:48.948889Z",
     "start_time": "2023-11-14T22:30:47.492981Z"
    }
   },
   "outputs": [
    {
     "name": "stderr",
     "output_type": "stream",
     "text": [
      "/Users/polina/Library/Python/3.9/lib/python/site-packages/tqdm/auto.py:21: TqdmWarning: IProgress not found. Please update jupyter and ipywidgets. See https://ipywidgets.readthedocs.io/en/stable/user_install.html\n",
      "  from .autonotebook import tqdm as notebook_tqdm\n"
     ]
    }
   ],
   "source": [
    "import pandas as pd\n",
    "import numpy as np\n",
    "import matplotlib as mpl\n",
    "import matplotlib.pyplot as plt\n",
    "%matplotlib inline\n",
    "import seaborn as sns\n",
    "import scipy.stats as st\n",
    "from sklearn.model_selection import train_test_split\n",
    "from ydata_profiling import ProfileReport"
   ]
  },
  {
   "cell_type": "markdown",
   "id": "afde9bcc-b25b-41b2-9106-1b868e4e6934",
   "metadata": {},
   "source": [
    "### user_artists.dat\n",
    "This file contains the artists listened by each user.\n",
    "        \n",
    "It also provides a listening count for each [user, artist] pair\n",
    "\n",
    "userID \\t artistID \\t weight\n",
    "2\t51\t13883"
   ]
  },
  {
   "cell_type": "code",
   "execution_count": 3,
   "id": "bec8b07910446258",
   "metadata": {
    "collapsed": false,
    "editable": true,
    "slideshow": {
     "slide_type": ""
    },
    "tags": [],
    "ExecuteTime": {
     "end_time": "2023-11-14T22:33:00.034915Z",
     "start_time": "2023-11-14T22:33:00.008554Z"
    }
   },
   "outputs": [],
   "source": [
    "user_artists = pd.read_csv(\"/Users/polina/study/THESIS/recommender-system/data/raw/hetrec2011-lastfm-2k/user_artists.dat\", sep=\"\\t\")"
   ]
  },
  {
   "cell_type": "code",
   "execution_count": 64,
   "id": "d7696bbf-13c2-4d8e-b7ca-608651be7b06",
   "metadata": {},
   "outputs": [
    {
     "data": {
      "application/vnd.jupyter.widget-view+json": {
       "model_id": "cba82639a96f48a68d3234408b6a1e25",
       "version_major": 2,
       "version_minor": 0
      },
      "text/plain": [
       "Summarize dataset:   0%|          | 0/5 [00:00<?, ?it/s]"
      ]
     },
     "metadata": {},
     "output_type": "display_data"
    },
    {
     "data": {
      "application/vnd.jupyter.widget-view+json": {
       "model_id": "f853c85c53c7455dad3bd0ba21c84130",
       "version_major": 2,
       "version_minor": 0
      },
      "text/plain": [
       "Generate report structure:   0%|          | 0/1 [00:00<?, ?it/s]"
      ]
     },
     "metadata": {},
     "output_type": "display_data"
    },
    {
     "data": {
      "application/vnd.jupyter.widget-view+json": {
       "model_id": "94b01cd0bcfc4a4896fbde4f05603942",
       "version_major": 2,
       "version_minor": 0
      },
      "text/plain": [
       "Render HTML:   0%|          | 0/1 [00:00<?, ?it/s]"
      ]
     },
     "metadata": {},
     "output_type": "display_data"
    },
    {
     "data": {
      "application/vnd.jupyter.widget-view+json": {
       "model_id": "1daaf4db284843d099fcd3ad9af176d6",
       "version_major": 2,
       "version_minor": 0
      },
      "text/plain": [
       "Export report to file:   0%|          | 0/1 [00:00<?, ?it/s]"
      ]
     },
     "metadata": {},
     "output_type": "display_data"
    }
   ],
   "source": [
    "user_artists_report = ProfileReport(user_artists, title=\"User-artists dataset report\")\n",
    "user_artists_report.to_file(\"../reports/user_artists_profile_report.html\")"
   ]
  },
  {
   "cell_type": "markdown",
   "id": "954e6c83-b252-4c4f-8c1c-349dc4a538f1",
   "metadata": {},
   "source": [
    "### user_friends.dat\n",
    "These files contain the friend relations between users in the database.\n",
    "\n",
    "userID \\t friendID\n",
    "2\t275"
   ]
  },
  {
   "cell_type": "code",
   "execution_count": 65,
   "id": "59a80227-62cc-402a-ac01-eb02d6d48bd5",
   "metadata": {
    "editable": true,
    "slideshow": {
     "slide_type": ""
    },
    "tags": []
   },
   "outputs": [],
   "source": [
    "user_friends = pd.read_csv(\"/Users/polina/PycharmProjects/recommendation_system/recommendation-system/data/raw/hetrec2011-lastfm-2k/user_friends.dat\", sep=\"\\t\")"
   ]
  },
  {
   "cell_type": "code",
   "execution_count": 66,
   "id": "fa29a2bc-f697-424b-9e2e-ea0e4c157401",
   "metadata": {},
   "outputs": [
    {
     "data": {
      "application/vnd.jupyter.widget-view+json": {
       "model_id": "9837683703604a17a79f9eb0c2edc55e",
       "version_major": 2,
       "version_minor": 0
      },
      "text/plain": [
       "Summarize dataset:   0%|          | 0/5 [00:00<?, ?it/s]"
      ]
     },
     "metadata": {},
     "output_type": "display_data"
    },
    {
     "data": {
      "application/vnd.jupyter.widget-view+json": {
       "model_id": "ec43dac25703402188a692487450826e",
       "version_major": 2,
       "version_minor": 0
      },
      "text/plain": [
       "Generate report structure:   0%|          | 0/1 [00:00<?, ?it/s]"
      ]
     },
     "metadata": {},
     "output_type": "display_data"
    },
    {
     "data": {
      "application/vnd.jupyter.widget-view+json": {
       "model_id": "a2f841a91e3249c3a8099ff4ed066c46",
       "version_major": 2,
       "version_minor": 0
      },
      "text/plain": [
       "Render HTML:   0%|          | 0/1 [00:00<?, ?it/s]"
      ]
     },
     "metadata": {},
     "output_type": "display_data"
    },
    {
     "data": {
      "application/vnd.jupyter.widget-view+json": {
       "model_id": "b75c60ad8a7d40858a17bf5fc13d57d6",
       "version_major": 2,
       "version_minor": 0
      },
      "text/plain": [
       "Export report to file:   0%|          | 0/1 [00:00<?, ?it/s]"
      ]
     },
     "metadata": {},
     "output_type": "display_data"
    }
   ],
   "source": [
    "user_friends_report = ProfileReport(user_friends, title=\"User-friends dataset report\")\n",
    "user_friends_report.to_file(\"../reports/user_friends_profile_report.html\")"
   ]
  },
  {
   "cell_type": "markdown",
   "id": "b7d515eb-4f8a-42fe-abc5-34376f3bdb36",
   "metadata": {},
   "source": [
    "### user_taggedartists-timestamps.dat\n",
    "These files contain the tag assignments of artists provided by each particular user.\n",
    "        \n",
    "They also contain the timestamps when the tag assignments were done.\n",
    "\n",
    "user_taggedartists-timestamps.dat\n",
    "\n",
    "userID \\t artistID \\t tagID \\t timestamp\n",
    "2\t52\t13\t1238536800000"
   ]
  },
  {
   "cell_type": "code",
   "execution_count": 67,
   "id": "b1b1ad77-3cd6-4509-8c30-d6ce21f05d01",
   "metadata": {},
   "outputs": [],
   "source": [
    "user_taggedartists = pd.read_csv(\"/Users/polina/PycharmProjects/recommendation_system/recommendation-system/data/raw/hetrec2011-lastfm-2k/user_taggedartists-timestamps.dat\", sep=\"\\t\")"
   ]
  },
  {
   "cell_type": "code",
   "execution_count": 68,
   "id": "fad36319-40e2-4663-8638-0b62f0c088b0",
   "metadata": {},
   "outputs": [
    {
     "data": {
      "application/vnd.jupyter.widget-view+json": {
       "model_id": "6428a843e60c4981b228a066c58faa76",
       "version_major": 2,
       "version_minor": 0
      },
      "text/plain": [
       "Summarize dataset:   0%|          | 0/5 [00:00<?, ?it/s]"
      ]
     },
     "metadata": {},
     "output_type": "display_data"
    },
    {
     "data": {
      "application/vnd.jupyter.widget-view+json": {
       "model_id": "ab6b4b8e9d77415c90e1fe2e824fb4e7",
       "version_major": 2,
       "version_minor": 0
      },
      "text/plain": [
       "Generate report structure:   0%|          | 0/1 [00:00<?, ?it/s]"
      ]
     },
     "metadata": {},
     "output_type": "display_data"
    },
    {
     "data": {
      "application/vnd.jupyter.widget-view+json": {
       "model_id": "b0a7939fdbe8465e82a11dba0aa3635f",
       "version_major": 2,
       "version_minor": 0
      },
      "text/plain": [
       "Render HTML:   0%|          | 0/1 [00:00<?, ?it/s]"
      ]
     },
     "metadata": {},
     "output_type": "display_data"
    },
    {
     "data": {
      "application/vnd.jupyter.widget-view+json": {
       "model_id": "12982ab118054212b624ea6ffe43bf8a",
       "version_major": 2,
       "version_minor": 0
      },
      "text/plain": [
       "Export report to file:   0%|          | 0/1 [00:00<?, ?it/s]"
      ]
     },
     "metadata": {},
     "output_type": "display_data"
    }
   ],
   "source": [
    "user_taggedartists_report = ProfileReport(user_taggedartists, title=\"User tagged-artists dataset report\")\n",
    "user_taggedartists_report.to_file(\"../reports/user_taggedartists_profile_report.html\")"
   ]
  },
  {
   "cell_type": "markdown",
   "id": "56c3197a-7c72-4126-abed-3f74e5ae5015",
   "metadata": {},
   "source": [
    "### tags.dat\n",
    "This file contains the set of tags available in the dataset.\n",
    "\n",
    "tagID \\t tagValue\n",
    "1\tmetal"
   ]
  },
  {
   "cell_type": "code",
   "execution_count": 69,
   "id": "0de32a7c-b3e4-4e9b-bdcc-988318c3ce45",
   "metadata": {
    "editable": true,
    "slideshow": {
     "slide_type": ""
    },
    "tags": []
   },
   "outputs": [],
   "source": [
    "tags = pd.read_csv(\"/Users/polina/PycharmProjects/recommendation_system/recommendation-system/data/raw/hetrec2011-lastfm-2k/tags.dat\", sep=\"\\t\", encoding='latin-1')"
   ]
  },
  {
   "cell_type": "code",
   "execution_count": 70,
   "id": "c4799261-5512-4a51-88de-3eb287f179fd",
   "metadata": {},
   "outputs": [
    {
     "data": {
      "application/vnd.jupyter.widget-view+json": {
       "model_id": "71efc9e3836f454b9c89e3c3299ca83b",
       "version_major": 2,
       "version_minor": 0
      },
      "text/plain": [
       "Summarize dataset:   0%|          | 0/5 [00:00<?, ?it/s]"
      ]
     },
     "metadata": {},
     "output_type": "display_data"
    },
    {
     "data": {
      "application/vnd.jupyter.widget-view+json": {
       "model_id": "6dd6fe13b23a4e6c8c77dfaf9b2957c0",
       "version_major": 2,
       "version_minor": 0
      },
      "text/plain": [
       "Generate report structure:   0%|          | 0/1 [00:00<?, ?it/s]"
      ]
     },
     "metadata": {},
     "output_type": "display_data"
    },
    {
     "data": {
      "application/vnd.jupyter.widget-view+json": {
       "model_id": "80ece0e5eb4540abb6bdad8417302d87",
       "version_major": 2,
       "version_minor": 0
      },
      "text/plain": [
       "Render HTML:   0%|          | 0/1 [00:00<?, ?it/s]"
      ]
     },
     "metadata": {},
     "output_type": "display_data"
    },
    {
     "data": {
      "application/vnd.jupyter.widget-view+json": {
       "model_id": "a408023ef39c490a9a5cf705d7b495c2",
       "version_major": 2,
       "version_minor": 0
      },
      "text/plain": [
       "Export report to file:   0%|          | 0/1 [00:00<?, ?it/s]"
      ]
     },
     "metadata": {},
     "output_type": "display_data"
    }
   ],
   "source": [
    "tags_report = ProfileReport(tags, title=\"Tags dataset report\")\n",
    "tags_report.to_file(\"../reports/tags_profile_report.html\")"
   ]
  },
  {
   "cell_type": "markdown",
   "id": "78a355fc-1c34-428a-ae65-7395f3308113",
   "metadata": {},
   "source": [
    "### artists.dat\n",
    "This file contains information about music artists listened and tagged by the users.\n",
    "\n",
    "id \\t name \\t url \\t pictureURL\n",
    "\n",
    "Example:\n",
    "707\tMetallica\thttp://www.last.fm/music/Metallica\thttp://userserve-ak.last.fm/serve/252/7560709.jpg"
   ]
  },
  {
   "cell_type": "code",
   "execution_count": 13,
   "id": "44961642-c4df-4992-9f3e-8802f3d0203e",
   "metadata": {
    "ExecuteTime": {
     "end_time": "2023-11-14T23:00:40.251372Z",
     "start_time": "2023-11-14T23:00:40.213326Z"
    }
   },
   "outputs": [],
   "source": [
    "artists = pd.read_csv(\"/Users/polina/study/THESIS/recommender-system/data/raw/hetrec2011-lastfm-2k/artists.dat\", sep=\"\\t\", encoding='latin-1')"
   ]
  },
  {
   "cell_type": "code",
   "execution_count": 72,
   "id": "c28cc12f-513d-45e3-91f0-db75a55a7b4f",
   "metadata": {},
   "outputs": [
    {
     "data": {
      "application/vnd.jupyter.widget-view+json": {
       "model_id": "35a2194a42654c6db9e59d8271442340",
       "version_major": 2,
       "version_minor": 0
      },
      "text/plain": [
       "Summarize dataset:   0%|          | 0/5 [00:00<?, ?it/s]"
      ]
     },
     "metadata": {},
     "output_type": "display_data"
    },
    {
     "data": {
      "application/vnd.jupyter.widget-view+json": {
       "model_id": "02777c18ab8b4c13b0d4368e543d2d75",
       "version_major": 2,
       "version_minor": 0
      },
      "text/plain": [
       "Generate report structure:   0%|          | 0/1 [00:00<?, ?it/s]"
      ]
     },
     "metadata": {},
     "output_type": "display_data"
    },
    {
     "data": {
      "application/vnd.jupyter.widget-view+json": {
       "model_id": "b08629a88d05404a95cee2cfd4a93e13",
       "version_major": 2,
       "version_minor": 0
      },
      "text/plain": [
       "Render HTML:   0%|          | 0/1 [00:00<?, ?it/s]"
      ]
     },
     "metadata": {},
     "output_type": "display_data"
    },
    {
     "data": {
      "application/vnd.jupyter.widget-view+json": {
       "model_id": "4541c8151a584f4282c6d26997eda46e",
       "version_major": 2,
       "version_minor": 0
      },
      "text/plain": [
       "Export report to file:   0%|          | 0/1 [00:00<?, ?it/s]"
      ]
     },
     "metadata": {},
     "output_type": "display_data"
    }
   ],
   "source": [
    "artists_report = ProfileReport(artists, title=\"Artists dataset report\")\n",
    "artists_report.to_file(\"../reports/artists_profile_report.html\")"
   ]
  },
  {
   "cell_type": "markdown",
   "id": "68358120-4408-4ca3-bc40-9450d4f4683c",
   "metadata": {},
   "source": [
    "### fixing skeweness of user_artists.weight"
   ]
  },
  {
   "cell_type": "code",
   "execution_count": 4,
   "id": "a61e5d32-d8dd-4f94-afc3-222ce4ae1f87",
   "metadata": {
    "ExecuteTime": {
     "end_time": "2023-11-14T22:33:16.944067Z",
     "start_time": "2023-11-14T22:33:16.936578Z"
    }
   },
   "outputs": [],
   "source": [
    "from sklearn.preprocessing import PowerTransformer, QuantileTransformer"
   ]
  },
  {
   "cell_type": "code",
   "execution_count": 5,
   "id": "46555098-8679-4c45-be3c-e98a8e6d6231",
   "metadata": {
    "ExecuteTime": {
     "end_time": "2023-11-14T22:33:17.861806Z",
     "start_time": "2023-11-14T22:33:17.855384Z"
    }
   },
   "outputs": [],
   "source": [
    "qt = QuantileTransformer(n_quantiles=500, output_distribution='normal')"
   ]
  },
  {
   "cell_type": "code",
   "execution_count": 6,
   "id": "252728a8-cecf-44fb-acf7-662f06a979b9",
   "metadata": {
    "ExecuteTime": {
     "end_time": "2023-11-14T22:33:18.592716Z",
     "start_time": "2023-11-14T22:33:18.565091Z"
    }
   },
   "outputs": [],
   "source": [
    "user_artists.weight = pd.Series((qt.fit_transform(np.array(user_artists.weight).reshape(-1, 1))).flatten())"
   ]
  },
  {
   "cell_type": "code",
   "execution_count": 7,
   "id": "38f03df5-f4fc-414b-9d86-9a5ed2b3f3d9",
   "metadata": {
    "ExecuteTime": {
     "end_time": "2023-11-14T22:33:21.147136Z",
     "start_time": "2023-11-14T22:33:20.783286Z"
    }
   },
   "outputs": [
    {
     "data": {
      "text/plain": "<Axes: xlabel='weight', ylabel='Count'>"
     },
     "execution_count": 7,
     "metadata": {},
     "output_type": "execute_result"
    },
    {
     "data": {
      "text/plain": "<Figure size 640x480 with 1 Axes>",
      "image/png": "[encoded data removed]"
     },
     "metadata": {},
     "output_type": "display_data"
    }
   ],
   "source": [
    "sns.histplot(user_artists.weight, bins = 50, kde = True)"
   ]
  },
  {
   "cell_type": "code",
   "execution_count": 9,
   "outputs": [],
   "source": [
    "user_artists.loc[user_artists[\"weight\"] >= 0, \"weight\"] = 1\n",
    "user_artists.loc[user_artists[\"weight\"] < 0, \"weight\"] = 0"
   ],
   "metadata": {
    "collapsed": false,
    "ExecuteTime": {
     "end_time": "2023-11-14T22:35:31.786892Z",
     "start_time": "2023-11-14T22:35:31.781192Z"
    }
   },
   "id": "9f4ae9f81892a018"
  },
  {
   "cell_type": "code",
   "execution_count": 10,
   "outputs": [
    {
     "data": {
      "text/plain": "       userID  artistID  weight\n0           2        51     1.0\n1           2        52     1.0\n2           2        53     1.0\n3           2        54     1.0\n4           2        55     1.0\n...       ...       ...     ...\n92829    2100     18726     1.0\n92830    2100     18727     1.0\n92831    2100     18728     1.0\n92832    2100     18729     1.0\n92833    2100     18730     1.0\n\n[92834 rows x 3 columns]",
      "text/html": "<div>\n<style scoped>\n    .dataframe tbody tr th:only-of-type {\n        vertical-align: middle;\n    }\n\n    .dataframe tbody tr th {\n        vertical-align: top;\n    }\n\n    .dataframe thead th {\n        text-align: right;\n    }\n</style>\n<table border=\"1\" class=\"dataframe\">\n  <thead>\n    <tr style=\"text-align: right;\">\n      <th></th>\n      <th>userID</th>\n      <th>artistID</th>\n      <th>weight</th>\n    </tr>\n  </thead>\n  <tbody>\n    <tr>\n      <th>0</th>\n      <td>2</td>\n      <td>51</td>\n      <td>1.0</td>\n    </tr>\n    <tr>\n      <th>1</th>\n      <td>2</td>\n      <td>52</td>\n      <td>1.0</td>\n    </tr>\n    <tr>\n      <th>2</th>\n      <td>2</td>\n      <td>53</td>\n      <td>1.0</td>\n    </tr>\n    <tr>\n      <th>3</th>\n      <td>2</td>\n      <td>54</td>\n      <td>1.0</td>\n    </tr>\n    <tr>\n      <th>4</th>\n      <td>2</td>\n      <td>55</td>\n      <td>1.0</td>\n    </tr>\n    <tr>\n      <th>...</th>\n      <td>...</td>\n      <td>...</td>\n      <td>...</td>\n    </tr>\n    <tr>\n      <th>92829</th>\n      <td>2100</td>\n      <td>18726</td>\n      <td>1.0</td>\n    </tr>\n    <tr>\n      <th>92830</th>\n      <td>2100</td>\n      <td>18727</td>\n      <td>1.0</td>\n    </tr>\n    <tr>\n      <th>92831</th>\n      <td>2100</td>\n      <td>18728</td>\n      <td>1.0</td>\n    </tr>\n    <tr>\n      <th>92832</th>\n      <td>2100</td>\n      <td>18729</td>\n      <td>1.0</td>\n    </tr>\n    <tr>\n      <th>92833</th>\n      <td>2100</td>\n      <td>18730</td>\n      <td>1.0</td>\n    </tr>\n  </tbody>\n</table>\n<p>92834 rows × 3 columns</p>\n</div>"
     },
     "execution_count": 10,
     "metadata": {},
     "output_type": "execute_result"
    }
   ],
   "source": [
    "user_artists"
   ],
   "metadata": {
    "collapsed": false,
    "ExecuteTime": {
     "end_time": "2023-11-14T22:35:33.186677Z",
     "start_time": "2023-11-14T22:35:33.179849Z"
    }
   },
   "id": "3ddb75ba93ce6c9"
  },
  {
   "cell_type": "code",
   "execution_count": null,
   "outputs": [],
   "source": [],
   "metadata": {
    "collapsed": false
   },
   "id": "dbd145a25a692541"
  },
  {
   "cell_type": "markdown",
   "id": "69435279-dddc-4929-b869-58f0f91a17e9",
   "metadata": {},
   "source": [
    "### deleting missing values from artists"
   ]
  },
  {
   "cell_type": "code",
   "execution_count": 77,
   "id": "132c8b15-97ca-45ef-9c59-2b7baa866fa6",
   "metadata": {},
   "outputs": [],
   "source": [
    "artists = artists.dropna()"
   ]
  },
  {
   "cell_type": "code",
   "execution_count": 11,
   "id": "32b8d260-4ea5-468d-adaa-520268d08984",
   "metadata": {
    "editable": true,
    "slideshow": {
     "slide_type": ""
    },
    "tags": [],
    "ExecuteTime": {
     "end_time": "2023-11-14T22:56:56.881613Z",
     "start_time": "2023-11-14T22:56:56.855957Z"
    }
   },
   "outputs": [],
   "source": [
    "results = pd.read_csv(\"/Users/polina/study/THESIS/recommender-system/src/models/results.csv\")"
   ]
  },
  {
   "cell_type": "code",
   "execution_count": 12,
   "outputs": [
    {
     "data": {
      "text/plain": "   Unnamed: 0  Top1   Top2   Top3   Top4   Top5   Top6   Top7  Top8   Top9  \\\n0           2  1001    993    187    997    193   1014    998  1013   1892   \n1           3  7032   7020   7016   7035   7014   7034   7012  7011   7010   \n2           4   227    511    229   1001     67   1713    533   599     59   \n3           5   424     65   1090    533    418    709    429   425    436   \n4           6  9904  11083  11071  11062  11077  11064  11066  2220  11076   \n\n   Top10  \n0    159  \n1   7019  \n2    959  \n3    615  \n4  11070  ",
      "text/html": "<div>\n<style scoped>\n    .dataframe tbody tr th:only-of-type {\n        vertical-align: middle;\n    }\n\n    .dataframe tbody tr th {\n        vertical-align: top;\n    }\n\n    .dataframe thead th {\n        text-align: right;\n    }\n</style>\n<table border=\"1\" class=\"dataframe\">\n  <thead>\n    <tr style=\"text-align: right;\">\n      <th></th>\n      <th>Unnamed: 0</th>\n      <th>Top1</th>\n      <th>Top2</th>\n      <th>Top3</th>\n      <th>Top4</th>\n      <th>Top5</th>\n      <th>Top6</th>\n      <th>Top7</th>\n      <th>Top8</th>\n      <th>Top9</th>\n      <th>Top10</th>\n    </tr>\n  </thead>\n  <tbody>\n    <tr>\n      <th>0</th>\n      <td>2</td>\n      <td>1001</td>\n      <td>993</td>\n      <td>187</td>\n      <td>997</td>\n      <td>193</td>\n      <td>1014</td>\n      <td>998</td>\n      <td>1013</td>\n      <td>1892</td>\n      <td>159</td>\n    </tr>\n    <tr>\n      <th>1</th>\n      <td>3</td>\n      <td>7032</td>\n      <td>7020</td>\n      <td>7016</td>\n      <td>7035</td>\n      <td>7014</td>\n      <td>7034</td>\n      <td>7012</td>\n      <td>7011</td>\n      <td>7010</td>\n      <td>7019</td>\n    </tr>\n    <tr>\n      <th>2</th>\n      <td>4</td>\n      <td>227</td>\n      <td>511</td>\n      <td>229</td>\n      <td>1001</td>\n      <td>67</td>\n      <td>1713</td>\n      <td>533</td>\n      <td>599</td>\n      <td>59</td>\n      <td>959</td>\n    </tr>\n    <tr>\n      <th>3</th>\n      <td>5</td>\n      <td>424</td>\n      <td>65</td>\n      <td>1090</td>\n      <td>533</td>\n      <td>418</td>\n      <td>709</td>\n      <td>429</td>\n      <td>425</td>\n      <td>436</td>\n      <td>615</td>\n    </tr>\n    <tr>\n      <th>4</th>\n      <td>6</td>\n      <td>9904</td>\n      <td>11083</td>\n      <td>11071</td>\n      <td>11062</td>\n      <td>11077</td>\n      <td>11064</td>\n      <td>11066</td>\n      <td>2220</td>\n      <td>11076</td>\n      <td>11070</td>\n    </tr>\n  </tbody>\n</table>\n</div>"
     },
     "execution_count": 12,
     "metadata": {},
     "output_type": "execute_result"
    }
   ],
   "source": [
    "results.head()"
   ],
   "metadata": {
    "collapsed": false,
    "ExecuteTime": {
     "end_time": "2023-11-14T22:57:01.798433Z",
     "start_time": "2023-11-14T22:57:01.781740Z"
    }
   },
   "id": "5d021ea374df4c2b"
  },
  {
   "cell_type": "code",
   "execution_count": 20,
   "outputs": [
    {
     "data": {
      "text/plain": "0        False\n1        False\n2        False\n3        False\n4        False\n         ...  \n17627    False\n17628    False\n17629    False\n17630    False\n17631    False\nName: id, Length: 17632, dtype: bool"
     },
     "execution_count": 20,
     "metadata": {},
     "output_type": "execute_result"
    }
   ],
   "source": [
    "artists[\"id\"].isin([1001, 993, 187, 997, 193])"
   ],
   "metadata": {
    "collapsed": false,
    "ExecuteTime": {
     "end_time": "2023-11-14T23:04:19.827543Z",
     "start_time": "2023-11-14T23:04:19.821841Z"
    }
   },
   "id": "11262ac63a3fdca6"
  },
  {
   "cell_type": "code",
   "execution_count": 15,
   "outputs": [
    {
     "data": {
      "text/plain": "   id               name                                         url  \\\n0   1       MALICE MIZER       http://www.last.fm/music/MALICE+MIZER   \n1   2    Diary of Dreams    http://www.last.fm/music/Diary+of+Dreams   \n2   3  Carpathian Forest  http://www.last.fm/music/Carpathian+Forest   \n3   4       Moi dix Mois       http://www.last.fm/music/Moi+dix+Mois   \n4   5        Bella Morte        http://www.last.fm/music/Bella+Morte   \n\n                                          pictureURL  \n0    http://userserve-ak.last.fm/serve/252/10808.jpg  \n1  http://userserve-ak.last.fm/serve/252/3052066.jpg  \n2  http://userserve-ak.last.fm/serve/252/40222717...  \n3  http://userserve-ak.last.fm/serve/252/54697835...  \n4  http://userserve-ak.last.fm/serve/252/14789013...  ",
      "text/html": "<div>\n<style scoped>\n    .dataframe tbody tr th:only-of-type {\n        vertical-align: middle;\n    }\n\n    .dataframe tbody tr th {\n        vertical-align: top;\n    }\n\n    .dataframe thead th {\n        text-align: right;\n    }\n</style>\n<table border=\"1\" class=\"dataframe\">\n  <thead>\n    <tr style=\"text-align: right;\">\n      <th></th>\n      <th>id</th>\n      <th>name</th>\n      <th>url</th>\n      <th>pictureURL</th>\n    </tr>\n  </thead>\n  <tbody>\n    <tr>\n      <th>0</th>\n      <td>1</td>\n      <td>MALICE MIZER</td>\n      <td>http://www.last.fm/music/MALICE+MIZER</td>\n      <td>http://userserve-ak.last.fm/serve/252/10808.jpg</td>\n    </tr>\n    <tr>\n      <th>1</th>\n      <td>2</td>\n      <td>Diary of Dreams</td>\n      <td>http://www.last.fm/music/Diary+of+Dreams</td>\n      <td>http://userserve-ak.last.fm/serve/252/3052066.jpg</td>\n    </tr>\n    <tr>\n      <th>2</th>\n      <td>3</td>\n      <td>Carpathian Forest</td>\n      <td>http://www.last.fm/music/Carpathian+Forest</td>\n      <td>http://userserve-ak.last.fm/serve/252/40222717...</td>\n    </tr>\n    <tr>\n      <th>3</th>\n      <td>4</td>\n      <td>Moi dix Mois</td>\n      <td>http://www.last.fm/music/Moi+dix+Mois</td>\n      <td>http://userserve-ak.last.fm/serve/252/54697835...</td>\n    </tr>\n    <tr>\n      <th>4</th>\n      <td>5</td>\n      <td>Bella Morte</td>\n      <td>http://www.last.fm/music/Bella+Morte</td>\n      <td>http://userserve-ak.last.fm/serve/252/14789013...</td>\n    </tr>\n  </tbody>\n</table>\n</div>"
     },
     "execution_count": 15,
     "metadata": {},
     "output_type": "execute_result"
    }
   ],
   "source": [
    "artists.head()"
   ],
   "metadata": {
    "collapsed": false,
    "ExecuteTime": {
     "end_time": "2023-11-14T23:01:12.528056Z",
     "start_time": "2023-11-14T23:01:12.518118Z"
    }
   },
   "id": "5d5cb66c8f98d54b"
  },
  {
   "cell_type": "code",
   "execution_count": null,
   "outputs": [],
   "source": [],
   "metadata": {
    "collapsed": false
   },
   "id": "deadf735852e188a"
  }
 ],
 "metadata": {
  "kernelspec": {
   "display_name": "Python 3 (ipykernel)",
   "language": "python",
   "name": "python3"
  },
  "language_info": {
   "codemirror_mode": {
    "name": "ipython",
    "version": 3
   },
   "file_extension": ".py",
   "mimetype": "text/x-python",
   "name": "python",
   "nbconvert_exporter": "python",
   "pygments_lexer": "ipython3",
   "version": "3.9.6"
  }
 },
 "nbformat": 4,
 "nbformat_minor": 5
}
