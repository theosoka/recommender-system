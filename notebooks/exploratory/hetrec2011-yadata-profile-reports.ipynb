{
 "cells": [
  {
   "cell_type": "markdown",
   "id": "fda35dc70bed2612",
   "metadata": {
    "collapsed": false
   },
   "source": [
    "## hetrec2011-lastfm-2k EDA"
   ]
  },
  {
   "cell_type": "code",
   "execution_count": null,
   "id": "initial_id",
   "metadata": {
    "editable": true,
    "slideshow": {
     "slide_type": ""
    },
    "tags": []
   },
   "outputs": [],
   "source": [
    "import pandas as pd\n",
    "from ydata_profiling import ProfileReport\n",
    "from pathlib import Path"
   ]
  },
  {
   "cell_type": "markdown",
   "id": "afde9bcc-b25b-41b2-9106-1b868e4e6934",
   "metadata": {},
   "source": [
    "### user_artists.dat\n",
    "This file contains the artists listened by each user.\n",
    "        \n",
    "It also provides a listening count for each [user, artist] pair\n",
    "\n",
    "userID \\t artistID \\t weight\n",
    "2\t51\t13883"
   ]
  },
  {
   "cell_type": "code",
   "execution_count": null,
   "id": "bec8b07910446258",
   "metadata": {
    "collapsed": false,
    "editable": true,
    "slideshow": {
     "slide_type": ""
    },
    "tags": []
   },
   "outputs": [],
   "source": [
    "user_artists = pd.read_csv(Path() / \"../../data/raw/hetrec2011-lastfm-2k/user_artists.dat\", sep=\"\\t\")"
   ]
  },
  {
   "cell_type": "code",
   "execution_count": null,
   "id": "d7696bbf-13c2-4d8e-b7ca-608651be7b06",
   "metadata": {},
   "outputs": [],
   "source": [
    "user_artists_report = ProfileReport(user_artists, title=\"User-artists dataset report\")\n",
    "user_artists_report.to_file(\"../../reports/user_artists_profile_report.html\")"
   ]
  },
  {
   "cell_type": "markdown",
   "id": "954e6c83-b252-4c4f-8c1c-349dc4a538f1",
   "metadata": {},
   "source": [
    "### user_friends.dat\n",
    "These files contain the friend relations between users in the database.\n",
    "\n",
    "userID \\t friendID\n",
    "2\t275"
   ]
  },
  {
   "cell_type": "code",
   "execution_count": null,
   "id": "59a80227-62cc-402a-ac01-eb02d6d48bd5",
   "metadata": {
    "editable": true,
    "slideshow": {
     "slide_type": ""
    },
    "tags": []
   },
   "outputs": [],
   "source": [
    "user_friends = pd.read_csv(Path() / \"../../data/raw/hetrec2011-lastfm-2k/user_friends.dat\", sep=\"\\t\")"
   ]
  },
  {
   "cell_type": "code",
   "execution_count": null,
   "id": "fa29a2bc-f697-424b-9e2e-ea0e4c157401",
   "metadata": {},
   "outputs": [],
   "source": [
    "user_friends_report = ProfileReport(user_friends, title=\"User-friends dataset report\")\n",
    "user_friends_report.to_file(\"../../reports/user_friends_profile_report.html\")"
   ]
  },
  {
   "cell_type": "markdown",
   "id": "b7d515eb-4f8a-42fe-abc5-34376f3bdb36",
   "metadata": {},
   "source": [
    "### user_taggedartists-timestamps.dat\n",
    "These files contain the tag assignments of artists provided by each particular user.\n",
    "        \n",
    "They also contain the timestamps when the tag assignments were done.\n",
    "\n",
    "user_taggedartists-timestamps.dat\n",
    "\n",
    "userID \\t artistID \\t tagID \\t timestamp\n",
    "2\t52\t13\t1238536800000"
   ]
  },
  {
   "cell_type": "code",
   "execution_count": null,
   "id": "b1b1ad77-3cd6-4509-8c30-d6ce21f05d01",
   "metadata": {},
   "outputs": [],
   "source": [
    "user_taggedartists = pd.read_csv(Path() / \"../../data/raw/hetrec2011-lastfm-2k/user_taggedartists-timestamps.dat\", sep=\"\\t\")"
   ]
  },
  {
   "cell_type": "code",
   "execution_count": null,
   "id": "fad36319-40e2-4663-8638-0b62f0c088b0",
   "metadata": {},
   "outputs": [],
   "source": [
    "user_taggedartists_report = ProfileReport(user_taggedartists, title=\"User tagged-artists dataset report\")\n",
    "user_taggedartists_report.to_file(\"../../reports/user_taggedartists_profile_report.html\")"
   ]
  },
  {
   "cell_type": "markdown",
   "id": "56c3197a-7c72-4126-abed-3f74e5ae5015",
   "metadata": {},
   "source": [
    "### tags.dat\n",
    "This file contains the set of tags available in the dataset.\n",
    "\n",
    "tagID \\t tagValue\n",
    "1\tmetal"
   ]
  },
  {
   "cell_type": "code",
   "execution_count": null,
   "id": "0de32a7c-b3e4-4e9b-bdcc-988318c3ce45",
   "metadata": {
    "editable": true,
    "slideshow": {
     "slide_type": ""
    },
    "tags": []
   },
   "outputs": [],
   "source": [
    "tags = pd.read_csv(Path() / \"../../data/raw/hetrec2011-lastfm-2k/tags.dat\", sep=\"\\t\")"
   ]
  },
  {
   "cell_type": "code",
   "execution_count": null,
   "id": "c4799261-5512-4a51-88de-3eb287f179fd",
   "metadata": {},
   "outputs": [],
   "source": [
    "tags_report = ProfileReport(tags, title=\"Tags dataset report\")\n",
    "tags_report.to_file(\"../../reports/tags_profile_report.html\")"
   ]
  },
  {
   "cell_type": "markdown",
   "id": "78a355fc-1c34-428a-ae65-7395f3308113",
   "metadata": {},
   "source": [
    "### artists.dat\n",
    "This file contains information about music artists listened and tagged by the users.\n",
    "\n",
    "id \\t name \\t url \\t pictureURL\n",
    "\n",
    "Example:\n",
    "707\tMetallica\thttp://www.last.fm/music/Metallica\thttp://userserve-ak.last.fm/serve/252/7560709.jpg"
   ]
  },
  {
   "cell_type": "code",
   "execution_count": null,
   "id": "44961642-c4df-4992-9f3e-8802f3d0203e",
   "metadata": {},
   "outputs": [],
   "source": [
    "artists = pd.read_csv(Path() / \"../../data/raw/hetrec2011-lastfm-2k/artists.dat\", sep=\"\\t\")"
   ]
  },
  {
   "cell_type": "code",
   "execution_count": null,
   "id": "c28cc12f-513d-45e3-91f0-db75a55a7b4f",
   "metadata": {},
   "outputs": [],
   "source": [
    "artists_report = ProfileReport(artists, title=\"Artists dataset report\")\n",
    "artists_report.to_file(\"../../reports/artists_profile_report.html\")"
   ]
  },
  {
   "cell_type": "code",
   "execution_count": null,
   "outputs": [],
   "source": [],
   "metadata": {
    "collapsed": false
   },
   "id": "ee8c9a547139d626"
  }
 ],
 "metadata": {
  "kernelspec": {
   "display_name": "Python 3 (ipykernel)",
   "language": "python",
   "name": "python3"
  },
  "language_info": {
   "codemirror_mode": {
    "name": "ipython",
    "version": 3
   },
   "file_extension": ".py",
   "mimetype": "text/x-python",
   "name": "python",
   "nbconvert_exporter": "python",
   "pygments_lexer": "ipython3",
   "version": "3.9.6"
  }
 },
 "nbformat": 4,
 "nbformat_minor": 5
}
