{
 "cells": [
  {
   "cell_type": "markdown",
   "id": "fda35dc70bed2612",
   "metadata": {
    "collapsed": false,
    "jupyter": {
     "outputs_hidden": false
    }
   },
   "source": [
    "## hetrec2011-lastfm-2k EDA"
   ]
  },
  {
   "cell_type": "code",
   "execution_count": 62,
   "id": "initial_id",
   "metadata": {
    "ExecuteTime": {
     "end_time": "2023-10-07T20:25:19.235475Z",
     "start_time": "2023-10-07T20:25:18.980020Z"
    },
    "editable": true,
    "slideshow": {
     "slide_type": ""
    },
    "tags": []
   },
   "outputs": [],
   "source": [
    "import pandas as pd\n",
    "import numpy as np\n",
    "import matplotlib as mpl\n",
    "import matplotlib.pyplot as plt\n",
    "%matplotlib inline\n",
    "import seaborn as sns\n",
    "import scipy.stats as st\n",
    "from sklearn.model_selection import train_test_split\n",
    "from ydata_profiling import ProfileReport"
   ]
  },
  {
   "cell_type": "markdown",
   "id": "afde9bcc-b25b-41b2-9106-1b868e4e6934",
   "metadata": {},
   "source": [
    "### user_artists.dat\n",
    "This file contains the artists listened by each user.\n",
    "        \n",
    "It also provides a listening count for each [user, artist] pair\n",
    "\n",
    "userID \\t artistID \\t weight\n",
    "2\t51\t13883"
   ]
  },
  {
   "cell_type": "code",
   "execution_count": 63,
   "id": "bec8b07910446258",
   "metadata": {
    "ExecuteTime": {
     "end_time": "2023-10-07T20:25:26.319817Z",
     "start_time": "2023-10-07T20:25:26.295603Z"
    },
    "collapsed": false,
    "editable": true,
    "jupyter": {
     "outputs_hidden": false
    },
    "slideshow": {
     "slide_type": ""
    },
    "tags": []
   },
   "outputs": [],
   "source": [
    "user_artists = pd.read_csv(\"/Users/polina/PycharmProjects/recommendation_system/recommendation-system/data/raw/hetrec2011-lastfm-2k/user_artists.dat\", sep=\"\\t\")"
   ]
  },
  {
   "cell_type": "code",
   "execution_count": 64,
   "id": "d7696bbf-13c2-4d8e-b7ca-608651be7b06",
   "metadata": {},
   "outputs": [
    {
     "data": {
      "application/vnd.jupyter.widget-view+json": {
       "model_id": "cba82639a96f48a68d3234408b6a1e25",
       "version_major": 2,
       "version_minor": 0
      },
      "text/plain": [
       "Summarize dataset:   0%|          | 0/5 [00:00<?, ?it/s]"
      ]
     },
     "metadata": {},
     "output_type": "display_data"
    },
    {
     "data": {
      "application/vnd.jupyter.widget-view+json": {
       "model_id": "f853c85c53c7455dad3bd0ba21c84130",
       "version_major": 2,
       "version_minor": 0
      },
      "text/plain": [
       "Generate report structure:   0%|          | 0/1 [00:00<?, ?it/s]"
      ]
     },
     "metadata": {},
     "output_type": "display_data"
    },
    {
     "data": {
      "application/vnd.jupyter.widget-view+json": {
       "model_id": "94b01cd0bcfc4a4896fbde4f05603942",
       "version_major": 2,
       "version_minor": 0
      },
      "text/plain": [
       "Render HTML:   0%|          | 0/1 [00:00<?, ?it/s]"
      ]
     },
     "metadata": {},
     "output_type": "display_data"
    },
    {
     "data": {
      "application/vnd.jupyter.widget-view+json": {
       "model_id": "1daaf4db284843d099fcd3ad9af176d6",
       "version_major": 2,
       "version_minor": 0
      },
      "text/plain": [
       "Export report to file:   0%|          | 0/1 [00:00<?, ?it/s]"
      ]
     },
     "metadata": {},
     "output_type": "display_data"
    }
   ],
   "source": [
    "user_artists_report = ProfileReport(user_artists, title=\"User-artists dataset report\")\n",
    "user_artists_report.to_file(\"../reports/user_artists_profile_report.html\")"
   ]
  },
  {
   "cell_type": "markdown",
   "id": "954e6c83-b252-4c4f-8c1c-349dc4a538f1",
   "metadata": {},
   "source": [
    "### user_friends.dat\n",
    "These files contain the friend relations between users in the database.\n",
    "\n",
    "userID \\t friendID\n",
    "2\t275"
   ]
  },
  {
   "cell_type": "code",
   "execution_count": 65,
   "id": "59a80227-62cc-402a-ac01-eb02d6d48bd5",
   "metadata": {
    "editable": true,
    "slideshow": {
     "slide_type": ""
    },
    "tags": []
   },
   "outputs": [],
   "source": [
    "user_friends = pd.read_csv(\"/Users/polina/PycharmProjects/recommendation_system/recommendation-system/data/raw/hetrec2011-lastfm-2k/user_friends.dat\", sep=\"\\t\")"
   ]
  },
  {
   "cell_type": "code",
   "execution_count": 66,
   "id": "fa29a2bc-f697-424b-9e2e-ea0e4c157401",
   "metadata": {},
   "outputs": [
    {
     "data": {
      "application/vnd.jupyter.widget-view+json": {
       "model_id": "9837683703604a17a79f9eb0c2edc55e",
       "version_major": 2,
       "version_minor": 0
      },
      "text/plain": [
       "Summarize dataset:   0%|          | 0/5 [00:00<?, ?it/s]"
      ]
     },
     "metadata": {},
     "output_type": "display_data"
    },
    {
     "data": {
      "application/vnd.jupyter.widget-view+json": {
       "model_id": "ec43dac25703402188a692487450826e",
       "version_major": 2,
       "version_minor": 0
      },
      "text/plain": [
       "Generate report structure:   0%|          | 0/1 [00:00<?, ?it/s]"
      ]
     },
     "metadata": {},
     "output_type": "display_data"
    },
    {
     "data": {
      "application/vnd.jupyter.widget-view+json": {
       "model_id": "a2f841a91e3249c3a8099ff4ed066c46",
       "version_major": 2,
       "version_minor": 0
      },
      "text/plain": [
       "Render HTML:   0%|          | 0/1 [00:00<?, ?it/s]"
      ]
     },
     "metadata": {},
     "output_type": "display_data"
    },
    {
     "data": {
      "application/vnd.jupyter.widget-view+json": {
       "model_id": "b75c60ad8a7d40858a17bf5fc13d57d6",
       "version_major": 2,
       "version_minor": 0
      },
      "text/plain": [
       "Export report to file:   0%|          | 0/1 [00:00<?, ?it/s]"
      ]
     },
     "metadata": {},
     "output_type": "display_data"
    }
   ],
   "source": [
    "user_friends_report = ProfileReport(user_friends, title=\"User-friends dataset report\")\n",
    "user_friends_report.to_file(\"../reports/user_friends_profile_report.html\")"
   ]
  },
  {
   "cell_type": "markdown",
   "id": "b7d515eb-4f8a-42fe-abc5-34376f3bdb36",
   "metadata": {},
   "source": [
    "### user_taggedartists-timestamps.dat\n",
    "These files contain the tag assignments of artists provided by each particular user.\n",
    "        \n",
    "They also contain the timestamps when the tag assignments were done.\n",
    "\n",
    "user_taggedartists-timestamps.dat\n",
    "\n",
    "userID \\t artistID \\t tagID \\t timestamp\n",
    "2\t52\t13\t1238536800000"
   ]
  },
  {
   "cell_type": "code",
   "execution_count": 67,
   "id": "b1b1ad77-3cd6-4509-8c30-d6ce21f05d01",
   "metadata": {},
   "outputs": [],
   "source": [
    "user_taggedartists = pd.read_csv(\"/Users/polina/PycharmProjects/recommendation_system/recommendation-system/data/raw/hetrec2011-lastfm-2k/user_taggedartists-timestamps.dat\", sep=\"\\t\")"
   ]
  },
  {
   "cell_type": "code",
   "execution_count": 68,
   "id": "fad36319-40e2-4663-8638-0b62f0c088b0",
   "metadata": {},
   "outputs": [
    {
     "data": {
      "application/vnd.jupyter.widget-view+json": {
       "model_id": "6428a843e60c4981b228a066c58faa76",
       "version_major": 2,
       "version_minor": 0
      },
      "text/plain": [
       "Summarize dataset:   0%|          | 0/5 [00:00<?, ?it/s]"
      ]
     },
     "metadata": {},
     "output_type": "display_data"
    },
    {
     "data": {
      "application/vnd.jupyter.widget-view+json": {
       "model_id": "ab6b4b8e9d77415c90e1fe2e824fb4e7",
       "version_major": 2,
       "version_minor": 0
      },
      "text/plain": [
       "Generate report structure:   0%|          | 0/1 [00:00<?, ?it/s]"
      ]
     },
     "metadata": {},
     "output_type": "display_data"
    },
    {
     "data": {
      "application/vnd.jupyter.widget-view+json": {
       "model_id": "b0a7939fdbe8465e82a11dba0aa3635f",
       "version_major": 2,
       "version_minor": 0
      },
      "text/plain": [
       "Render HTML:   0%|          | 0/1 [00:00<?, ?it/s]"
      ]
     },
     "metadata": {},
     "output_type": "display_data"
    },
    {
     "data": {
      "application/vnd.jupyter.widget-view+json": {
       "model_id": "12982ab118054212b624ea6ffe43bf8a",
       "version_major": 2,
       "version_minor": 0
      },
      "text/plain": [
       "Export report to file:   0%|          | 0/1 [00:00<?, ?it/s]"
      ]
     },
     "metadata": {},
     "output_type": "display_data"
    }
   ],
   "source": [
    "user_taggedartists_report = ProfileReport(user_taggedartists, title=\"User tagged-artists dataset report\")\n",
    "user_taggedartists_report.to_file(\"../reports/user_taggedartists_profile_report.html\")"
   ]
  },
  {
   "cell_type": "markdown",
   "id": "56c3197a-7c72-4126-abed-3f74e5ae5015",
   "metadata": {},
   "source": [
    "### tags.dat\n",
    "This file contains the set of tags available in the dataset.\n",
    "\n",
    "tagID \\t tagValue\n",
    "1\tmetal"
   ]
  },
  {
   "cell_type": "code",
   "execution_count": 69,
   "id": "0de32a7c-b3e4-4e9b-bdcc-988318c3ce45",
   "metadata": {
    "editable": true,
    "slideshow": {
     "slide_type": ""
    },
    "tags": []
   },
   "outputs": [],
   "source": [
    "tags = pd.read_csv(\"/Users/polina/PycharmProjects/recommendation_system/recommendation-system/data/raw/hetrec2011-lastfm-2k/tags.dat\", sep=\"\\t\", encoding='latin-1')"
   ]
  },
  {
   "cell_type": "code",
   "execution_count": 70,
   "id": "c4799261-5512-4a51-88de-3eb287f179fd",
   "metadata": {},
   "outputs": [
    {
     "data": {
      "application/vnd.jupyter.widget-view+json": {
       "model_id": "71efc9e3836f454b9c89e3c3299ca83b",
       "version_major": 2,
       "version_minor": 0
      },
      "text/plain": [
       "Summarize dataset:   0%|          | 0/5 [00:00<?, ?it/s]"
      ]
     },
     "metadata": {},
     "output_type": "display_data"
    },
    {
     "data": {
      "application/vnd.jupyter.widget-view+json": {
       "model_id": "6dd6fe13b23a4e6c8c77dfaf9b2957c0",
       "version_major": 2,
       "version_minor": 0
      },
      "text/plain": [
       "Generate report structure:   0%|          | 0/1 [00:00<?, ?it/s]"
      ]
     },
     "metadata": {},
     "output_type": "display_data"
    },
    {
     "data": {
      "application/vnd.jupyter.widget-view+json": {
       "model_id": "80ece0e5eb4540abb6bdad8417302d87",
       "version_major": 2,
       "version_minor": 0
      },
      "text/plain": [
       "Render HTML:   0%|          | 0/1 [00:00<?, ?it/s]"
      ]
     },
     "metadata": {},
     "output_type": "display_data"
    },
    {
     "data": {
      "application/vnd.jupyter.widget-view+json": {
       "model_id": "a408023ef39c490a9a5cf705d7b495c2",
       "version_major": 2,
       "version_minor": 0
      },
      "text/plain": [
       "Export report to file:   0%|          | 0/1 [00:00<?, ?it/s]"
      ]
     },
     "metadata": {},
     "output_type": "display_data"
    }
   ],
   "source": [
    "tags_report = ProfileReport(tags, title=\"Tags dataset report\")\n",
    "tags_report.to_file(\"../reports/tags_profile_report.html\")"
   ]
  },
  {
   "cell_type": "markdown",
   "id": "78a355fc-1c34-428a-ae65-7395f3308113",
   "metadata": {},
   "source": [
    "### artists.dat\n",
    "This file contains information about music artists listened and tagged by the users.\n",
    "\n",
    "id \\t name \\t url \\t pictureURL\n",
    "\n",
    "Example:\n",
    "707\tMetallica\thttp://www.last.fm/music/Metallica\thttp://userserve-ak.last.fm/serve/252/7560709.jpg"
   ]
  },
  {
   "cell_type": "code",
   "execution_count": 71,
   "id": "44961642-c4df-4992-9f3e-8802f3d0203e",
   "metadata": {},
   "outputs": [],
   "source": [
    "artists = pd.read_csv(\"/Users/polina/PycharmProjects/recommendation_system/recommendation-system/data/raw/hetrec2011-lastfm-2k/artists.dat\", sep=\"\\t\", encoding='latin-1')"
   ]
  },
  {
   "cell_type": "code",
   "execution_count": 72,
   "id": "c28cc12f-513d-45e3-91f0-db75a55a7b4f",
   "metadata": {},
   "outputs": [
    {
     "data": {
      "application/vnd.jupyter.widget-view+json": {
       "model_id": "35a2194a42654c6db9e59d8271442340",
       "version_major": 2,
       "version_minor": 0
      },
      "text/plain": [
       "Summarize dataset:   0%|          | 0/5 [00:00<?, ?it/s]"
      ]
     },
     "metadata": {},
     "output_type": "display_data"
    },
    {
     "data": {
      "application/vnd.jupyter.widget-view+json": {
       "model_id": "02777c18ab8b4c13b0d4368e543d2d75",
       "version_major": 2,
       "version_minor": 0
      },
      "text/plain": [
       "Generate report structure:   0%|          | 0/1 [00:00<?, ?it/s]"
      ]
     },
     "metadata": {},
     "output_type": "display_data"
    },
    {
     "data": {
      "application/vnd.jupyter.widget-view+json": {
       "model_id": "b08629a88d05404a95cee2cfd4a93e13",
       "version_major": 2,
       "version_minor": 0
      },
      "text/plain": [
       "Render HTML:   0%|          | 0/1 [00:00<?, ?it/s]"
      ]
     },
     "metadata": {},
     "output_type": "display_data"
    },
    {
     "data": {
      "application/vnd.jupyter.widget-view+json": {
       "model_id": "4541c8151a584f4282c6d26997eda46e",
       "version_major": 2,
       "version_minor": 0
      },
      "text/plain": [
       "Export report to file:   0%|          | 0/1 [00:00<?, ?it/s]"
      ]
     },
     "metadata": {},
     "output_type": "display_data"
    }
   ],
   "source": [
    "artists_report = ProfileReport(artists, title=\"Artists dataset report\")\n",
    "artists_report.to_file(\"../reports/artists_profile_report.html\")"
   ]
  },
  {
   "cell_type": "markdown",
   "id": "68358120-4408-4ca3-bc40-9450d4f4683c",
   "metadata": {},
   "source": [
    "### fixing skeweness of user_artists.weight"
   ]
  },
  {
   "cell_type": "code",
   "execution_count": 73,
   "id": "a61e5d32-d8dd-4f94-afc3-222ce4ae1f87",
   "metadata": {},
   "outputs": [],
   "source": [
    "from sklearn.preprocessing import PowerTransformer, QuantileTransformer"
   ]
  },
  {
   "cell_type": "code",
   "execution_count": 74,
   "id": "46555098-8679-4c45-be3c-e98a8e6d6231",
   "metadata": {},
   "outputs": [],
   "source": [
    "qt = QuantileTransformer(n_quantiles=500, output_distribution='normal')"
   ]
  },
  {
   "cell_type": "code",
   "execution_count": 75,
   "id": "252728a8-cecf-44fb-acf7-662f06a979b9",
   "metadata": {},
   "outputs": [],
   "source": [
    "user_artists.weight = pd.Series((qt.fit_transform(np.array(user_artists.weight).reshape(-1, 1))).flatten())"
   ]
  },
  {
   "cell_type": "code",
   "execution_count": 76,
   "id": "38f03df5-f4fc-414b-9d86-9a5ed2b3f3d9",
   "metadata": {},
   "outputs": [
    {
     "data": {
      "text/plain": [
       "<Axes: xlabel='weight', ylabel='Count'>"
      ]
     },
     "execution_count": 76,
     "metadata": {},
     "output_type": "execute_result"
    },
    {
     "data": {
      "image/png": "[encoded data removed]",
      "text/plain": [
       "<Figure size 640x480 with 1 Axes>"
      ]
     },
     "metadata": {},
     "output_type": "display_data"
    }
   ],
   "source": [
    "sns.histplot(user_artists.weight, bins = 50, kde = True)"
   ]
  },
  {
   "cell_type": "markdown",
   "id": "69435279-dddc-4929-b869-58f0f91a17e9",
   "metadata": {},
   "source": [
    "### deleting missing values from artists"
   ]
  },
  {
   "cell_type": "code",
   "execution_count": 77,
   "id": "132c8b15-97ca-45ef-9c59-2b7baa866fa6",
   "metadata": {},
   "outputs": [],
   "source": [
    "artists = artists.dropna()"
   ]
  },
  {
   "cell_type": "code",
   "execution_count": null,
   "id": "32b8d260-4ea5-468d-adaa-520268d08984",
   "metadata": {
    "editable": true,
    "slideshow": {
     "slide_type": ""
    },
    "tags": []
   },
   "outputs": [],
   "source": []
  }
 ],
 "metadata": {
  "kernelspec": {
   "display_name": "Python 3 (ipykernel)",
   "language": "python",
   "name": "python3"
  },
  "language_info": {
   "codemirror_mode": {
    "name": "ipython",
    "version": 3
   },
   "file_extension": ".py",
   "mimetype": "text/x-python",
   "name": "python",
   "nbconvert_exporter": "python",
   "pygments_lexer": "ipython3",
   "version": "3.11.5"
  }
 },
 "nbformat": 4,
 "nbformat_minor": 5
}
